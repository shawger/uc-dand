{
 "cells": [
  {
   "cell_type": "markdown",
   "metadata": {},
   "source": [
    "# Calgary Coffee Shops"
   ]
  },
  {
   "cell_type": "markdown",
   "metadata": {},
   "source": [
    "By: Nick Shaw\n",
    "\n",
    "Date: 2016-07-13\n",
    "\n",
    "Project: P3 from the [Udacity Data Analyst Nano Degree](https://www.udacity.com/course/data-analyst-nanodegree--nd002)"
   ]
  },
  {
   "cell_type": "markdown",
   "metadata": {},
   "source": [
    "## Introduction\n",
    "\n",
    "This report details the investigation of coffee shops in Calgary Canada using data from [OpenStreetMap.org](https://www.openstreetmap.org/).\n",
    "\n",
    "Specifically, the following questions are answered:\n",
    "\n",
    "1. What does the map data look like? Size of file, number of elements, number of nodes, number of ways and number of unique users.\n",
    "\n",
    "2. Where does coffee shop rank as an cuisine?\n",
    "\n",
    "3. What users have added the most kind of coffee shops?\n",
    "\n",
    "4. What are the most common coffee shop chains?\n",
    "\n",
    "5. What are the names, phone numbers and postal codes of all the coffee shops.\n",
    "\n",
    "The investigation will be conducted using python and mongodb. For the python, not all code will be shown in this notebook and can be found in the file osmToMongo.py in the project folder.\n",
    "\n",
    "The project folder is hosted on github [here](https://github.com/shawger/uc-dand).\n",
    "\n",
    "\n",
    "## Source Data\n",
    "\n",
    "The data was downloaded with a pre-made xml osm file from MapZen. [Here](https://s3.amazonaws.com/metro-extracts.mapzen.com/calgary_canada.osm.bz2) is the link.\n",
    "\n",
    "In the project folder, the file is calgary_canada.osm.\n",
    "\n",
    "For testing, a sample of calgary_canada.osm was made using createTestFile.py, which was provided as part of this project.\n",
    "\n",
    "The resulting file is calgary_canada_sample.osm"
   ]
  },
  {
   "cell_type": "code",
   "execution_count": 1,
   "metadata": {
    "collapsed": false
   },
   "outputs": [],
   "source": [
    "#Creates and uses sample file if True\n",
    "USE_SAMPLE = False\n",
    "k = 10\n",
    "\n",
    "inputFile = \"calgary_canada.osm\"\n",
    "sampleFile = \"calgary_canada_sample.osm\"\n",
    "\n",
    "if USE_SAMPLE:\n",
    "    \n",
    "    import createTestFile\n",
    "    \n",
    "    createTestFile.createTestFile(inputFile,sampleFile,k)\n",
    "    \n",
    "    print '%s created from %s for testing.' % (sampleFile,inputFile)\n",
    "    \n",
    "    # For the rest of the project the sample file can be used instead of the orginal file\n",
    "    inputFile = sampleFile"
   ]
  },
  {
   "cell_type": "markdown",
   "metadata": {},
   "source": [
    "## Load from xml to mongobd\n",
    "\n",
    "Load the data from xml and convert to json so it can be loaded into mongodb.\n",
    "\n",
    "osmToMongo.py handles the conversion to json as well as the cleaning of the data."
   ]
  },
  {
   "cell_type": "code",
   "execution_count": 2,
   "metadata": {
    "collapsed": false
   },
   "outputs": [
    {
     "name": "stdout",
     "output_type": "stream",
     "text": [
      "835823 elelments processed and converted to json.\n",
      "New file created:\t\tcalgary_canada.json\n",
      "Log file for preproccessing:\tpre_process_log.txt\n",
      "maps document set in mongodb re-loaded\n"
     ]
    }
   ],
   "source": [
    "import osmToMongo\n",
    "from pymongo import MongoClient\n",
    "\n",
    "data = osmToMongo.process_map(inputFile)\n",
    "osmToMongo.loadIntoMongoDB(data)"
   ]
  },
  {
   "cell_type": "markdown",
   "metadata": {},
   "source": [
    "While converting the data, 2 kinds of cleaning will happen.\n",
    "\n",
    "1. Pre-processing: This happens before data is converted to json. Mainly, it is making consistent and valid keys.\n",
    "2. Post-processing: Once an element is converted to JSON, it will be cleaned according to different rules.\n",
    "\n",
    "### Pre-processing Cleaning\n",
    "\n",
    "To start, the following rules were applied.\n",
    "\n",
    "1. 'created' index for elements. Elements have attributes related to their creation (\"version\", \"changeset\", \"timestamp\", \"user\", \"uid\"). These are combined into a sub-document with the index 'created'\n",
    "\n",
    "2. 'pos' index. For elements with lat and lon (latitude and longitude) attributes, they will be combined into an float list (2 elements) and given the index of 'pos'.\n",
    "\n",
    "2. Valid keys. Elements have sub elements called 'tags'. Each tag has a key (k) and value (v). Before changing to json the keys need to be checked. Keys can only have lowercase letter or an _. For tags with a single ':', a sub-document is created with the string before the ':' being the key in the main document and string after the ':' being the key in the sub-document. Address is a special. There are records with addr:<something>, and instead of using addr for the key, address will be used.\n",
    "\n",
    "Applying these rules, 15289 tags were dropped (pre_process_log_v0.txt). Here is a sample:\n",
    "\n",
    "```\n",
    "Bad tag key, not added: geobase:datasetName\n",
    "Bad tag key, not added: geobase:acquisitionTechnique\n",
    "Bad tag key, not added: geobase:datasetName\n",
    "Bad tag key, not added: geobase:acquisitionTechnique\n",
    "Bad tag key, not added: catmp-RoadID\n",
    "Bad tag key, not added: catmp-RoadID\n",
    "Bad tag key, not added: catmp-RoadID\n",
    "```\n",
    "\n",
    "Tags with keys like geobase:acquisitionTechnique and geobase:datasetName were being dropped because they had a capital letter. These appear to be using a naming standard that separates words using capital letters to start words. I added logic to instead use _ to divide these words. For example, datasetName becomes dataset_name.\n",
    "\n",
    "I added code to replace - with _ and to make all words lower cases (after _ were added where applicable)\n",
    "\n",
    "Regex code to find lowerCase letters followed be upper case letters, then mode to make the replacement\n",
    "\n",
    "```python\n",
    "lowerUpper = re.compile(r'([a-z])([A-Z])')\n",
    "\n",
    "def _replaceLowerUpper(match):\n",
    "    lower = str(match.group(1))\n",
    "    upper = str(match.group(2))\n",
    "    return lower + \"_\" + upper.lower()\n",
    "```\n",
    "\n",
    "Code inside shape_element (in osmToMongo.py), which converts an xml element to a json document. k is the key for a tag.\n",
    "\n",
    "```python\n",
    "k = re.sub(lowerUpper,_replaceLowerUpper,k)\n",
    "k = k.lower()\n",
    "k = str.replace(k,\"-\",\"_\")\n",
    "\n",
    "```\n",
    "\n",
    "After adding the code, there were 1181 dropped tags due to key name (pre_process_log_v2.txt). Here is a sample:\n",
    "\n",
    "```\n",
    "Bad tag key, not added: addr:housenumber:first:right\n",
    "Bad tag key, not added: name_1\n",
    "Bad tag key, not added: geobase:route_name1:en\n",
    "Bad tag key, not added: addr:housenumber:first:right\n",
    "Bad tag key, not added: addr:housenumber:last:right\n",
    "Bad tag key, not added: addr:housenumber:first:right\n",
    "Bad tag key, not added: addr:housenumber:last:right\n",
    "```\n",
    "\n",
    "### Post-processing Cleaning\n",
    "\n",
    "I wanted to focus on a few things to help with my questions.\n",
    "\n",
    "- Make sure things are properly classified as coffee shops.\n",
    "- Make sure phone numbers are in a standard format\n",
    "- Make sure postal codes are in a standard format\n",
    "\n",
    "> Note: For auditing, I added some new fields. In practice, I would take this code (or comment it out) once I was satisfied with the data, as there is no need for it once the data is clean.\n",
    "\n",
    "For the auditing of the data I will run some queries on the db using the python mongodb driver. Connect to the database with the driver first."
   ]
  },
  {
   "cell_type": "code",
   "execution_count": 3,
   "metadata": {
    "collapsed": true
   },
   "outputs": [],
   "source": [
    "client = MongoClient('localhost', 27017)\n",
    "db = client.p3"
   ]
  },
  {
   "cell_type": "markdown",
   "metadata": {},
   "source": [
    "#### Coffee Shop Classification\n",
    "\n",
    "For coffee shops there are different ways of classification. The 'amenity' will be 'cafe' and/or the 'cuisine' will be 'coffee_shop'. Not all are the same. Here is what I mean."
   ]
  },
  {
   "cell_type": "code",
   "execution_count": 4,
   "metadata": {
    "collapsed": false
   },
   "outputs": [
    {
     "name": "stdout",
     "output_type": "stream",
     "text": [
      "Places with cafe as amenity: 190\n",
      "Places with coffee_shop as cuisine: 199\n",
      "Places with cafe as amenity but not coffee_shop as cuisine: 0\n",
      "Places with coffee_shop as cuisine but not cafe as amenity: 9\n"
     ]
    }
   ],
   "source": [
    "cafePipeline = [{\"$match\" : {\"amenity\":\"cafe\"}}]\n",
    "coffeePipeline = [{\"$match\" : {\"cuisine\" :\"coffee_shop\"}}]\n",
    "cafeNoCoffeePipeline = [{\"$match\" : {\"$and\" : [{\"amenity\":\"cafe\"},{\"cuisine\" :{\"$ne\":\"coffee_shop\"}}] }}]\n",
    "coffeeNoCafePipeline = [{\"$match\" : {\"$and\" : [{\"amenity\": {\"$ne\":\"cafe\"}},{\"cuisine\" :\"coffee_shop\"}] }}]\n",
    "\n",
    "\n",
    "print \"Places with cafe as amenity: %d\" % len(list(db.maps.aggregate(cafePipeline)))\n",
    "print \"Places with coffee_shop as cuisine: %d\" % len(list(db.maps.aggregate(coffeePipeline)))\n",
    "print \"Places with cafe as amenity but not coffee_shop as cuisine: %d\" % len(list(db.maps.aggregate(cafeNoCoffeePipeline)))\n",
    "print \"Places with coffee_shop as cuisine but not cafe as amenity: %d\" % len(list(db.maps.aggregate(coffeeNoCafePipeline)))\n"
   ]
  },
  {
   "cell_type": "markdown",
   "metadata": {},
   "source": [
    "To start with, running this code on the full dataset I got (the output changed after adding cleaning logic):\n",
    "```\n",
    "Places with cafe as amenity: 190\n",
    "Places with coffee_shop as cuisine: 78\n",
    "Places with cafe as amenity but not coffee_shop as cuisine: 121\n",
    "Places with coffee_shop as cuisine but not cafe as amenity: 9\n",
    "```\n",
    "\n",
    "To clean this up, I want all coffee shops to look the same. To do this I decided that I would make it so all cafe's have the cuisine coffee_shop and from here on, to use the field, 'cuisine' to to the research.\n",
    "\n",
    "The follow code is included in the code for cleaning a document:\n",
    "\n",
    "```python\n",
    "if('amenity' in d and d['amenity'] == 'cafe'):\n",
    "        d['cuisine'] = 'coffee_shop'\n",
    "\n",
    "```\n",
    "\n",
    "After adding this code, the output for the 'Coffee Audit' was:\n",
    "\n",
    "```\n",
    "Places with cafe as amenity: 190\n",
    "Places with coffee_shop as cuisine: 199\n",
    "Places with cafe as amenity but not coffee_shop as cuisine: 0\n",
    "Places with coffee_shop as cuisine but not cafe as amenity: 9\n",
    "```\n",
    "\n",
    "Now {'cuisine' : 'coffee_shop'} includes all the coffee shops.\n",
    "\n",
    "#### Phone Numbers\n",
    "\n",
    "Check the format of the phone numbers, pick a standard (the most used maybe) then convert all to that standard.\n",
    "\n",
    "During the clean stage, add a field to all documents that has the format of the number. D is digit Eg (###) ###-####\n",
    "\n",
    "Code in cleanDocument:\n",
    "\n",
    "```python\n",
    "if('phone' in d):\n",
    "        d['phone_format'] = re.sub('[0-9]', '#', d['phone'])\n",
    "        print d['phone_format']\n",
    "```\n",
    "\n",
    "Now run a query to see the common formats."
   ]
  },
  {
   "cell_type": "code",
   "execution_count": 5,
   "metadata": {
    "collapsed": false
   },
   "outputs": [
    {
     "name": "stdout",
     "output_type": "stream",
     "text": [
      "+#-###-###-#### : 277\n",
      "###-###-#### ext ## : 1\n"
     ]
    }
   ],
   "source": [
    "#Query all documents with something in the 'phone_format' field, group by the phone format, \n",
    "#count and sort by the number in each format\n",
    "\n",
    "formatPipeline = [{\"$match\" : {\"phone_format\":{\"$exists\":{\"$ne\":\"null\"}}}},\n",
    "                  {\"$group\": { \"_id\": \"$phone_format\", \"total\" : {\"$sum\":1}}},\n",
    "                  {\"$sort\": { \"total\": -1}}]\n",
    "\n",
    "results = list(db.maps.aggregate(formatPipeline))\n",
    "\n",
    "for r in results:\n",
    "    \n",
    "    print '%s : %d' % (r['_id'],r['total'])"
   ]
  },
  {
   "cell_type": "markdown",
   "metadata": {},
   "source": [
    "From the first run of this, here are the first 5 results:\n",
    "\n",
    "```\n",
    "+#-###-###-#### : 135\n",
    "(###) ###-#### : 47\n",
    "+# ### ### #### : 25\n",
    "###-###-#### : 21\n",
    "(###)###-#### : 10\n",
    "```\n",
    "\n",
    "I will use the first format as a template and put the rest into that format.\n",
    "\n",
    "From my knowledge of Canadian numbers there are 10 digits, not including the country code. If the country code is not included, it is assumed to be 1.\n",
    "\n",
    "All the digits will be extracted (in order), then put into the correct format.\n",
    "\n",
    "The code for cleaning is:\n",
    "\n",
    "```python\n",
    "if('phone' in d and not phoneNumber.match(d['phone'])):\n",
    "\n",
    "        #The phone number with nothing but digits\n",
    "        stripped = re.sub('[^0-9]', '', d['phone'])\n",
    "\n",
    "        #The number should be of length 10 or 11\n",
    "        #If it is 10, add a 1 to the start\n",
    "        if(len(stripped) == 10):\n",
    "            stripped = '1' + stripped\n",
    "\n",
    "        #Put into the correct format +#-###-###-####\n",
    "        if(len(stripped) == 11):\n",
    "            d['phone'] = '+' + stripped[0] \\\n",
    "                         + '-' + stripped[1:4] \\\n",
    "                         + '-' + stripped[4:7] \\\n",
    "                         + '-' + stripped[7:11]\n",
    "```\n",
    "\n",
    "and the regex phoneNumber is:\n",
    "\n",
    "```python\n",
    "phoneNumber = re.compile(r'^[+][0-9][-][0-9]{3}[-][0-9]{3}[-][0-9]{4}$')\n",
    "```\n",
    "\n",
    "Now the results of the phone number query are:\n",
    "\n",
    "```\n",
    "+#-###-###-#### : 277\n",
    "###-###-#### ext ## : 1\n",
    "```\n",
    "\n",
    "Much better. For more improvement, figure out a format for extensions.\n",
    "\n",
    "#### Postal Codes\n",
    "\n",
    "Check the format of the postal code, and make sure all addresses are using postal codes of the same (most common) format."
   ]
  },
  {
   "cell_type": "code",
   "execution_count": 6,
   "metadata": {
    "collapsed": false
   },
   "outputs": [
    {
     "name": "stdout",
     "output_type": "stream",
     "text": [
      "U#U #U# : 1163\n"
     ]
    }
   ],
   "source": [
    "formatPipeline = [{\"$match\" : {\"address.post_format\":{\"$exists\":{\"$ne\":\"null\"}}}},\n",
    "                  {\"$group\": { \"_id\": \"$address.post_format\", \"total\" : {\"$sum\":1}}},\n",
    "                  {\"$sort\": { \"total\": -1}}]\n",
    "\n",
    "results = list(db.maps.aggregate(formatPipeline))\n",
    "\n",
    "for r in results:\n",
    "    \n",
    "    print '%s : %d' % (r['_id'],r['total'])"
   ]
  },
  {
   "cell_type": "markdown",
   "metadata": {},
   "source": [
    "From the first run:\n",
    "\n",
    "```\n",
    "U#U #U# : 1112\n",
    "U#U#U# : 48\n",
    "UU U#U #U# : 2\n",
    "U#U #U#  : 2\n",
    "U#U-#U# : 1\n",
    "U#U#U#;U#U #U# : 1\n",
    "###-###-#### : 1\n",
    "#### : 1\n",
    "U#U : 1\n",
    "```\n",
    "\n",
    "Not so bad. Some of these just need to be thrown away. The only thing acceptable is (without punctuation or spaces is) L#L#L#.\n",
    "Anything without 3 numbers and 3 letters not in that order is not valid.\n",
    "\n",
    "The following code was added to clean the postal codes:\n",
    "\n",
    "```python\n",
    "if ('address' in d \\\n",
    "        and 'postcode' in d['address'] \\\n",
    "        and not postCode.match(d['address']['postcode'])):\n",
    "\n",
    "        #Remove everything but letter and numbers. Make it upper case\n",
    "        stripped = re.sub('[^0-9A-Za-z]', '', d['address']['postcode']).upper()\n",
    "\n",
    "        #Check if the stripped (only letters and numbers) post code is valid\n",
    "        #Drop it if it isn't\n",
    "        if(postCodeStripped.match(stripped)):\n",
    "            d['address']['postcode'] = stripped[0:3] + \" \" + stripped[3:]\n",
    "        else:\n",
    "            d['address'].pop(\"postcode\", None)\n",
    "```\n",
    "\n",
    "Using the regex's:\n",
    "\n",
    "```python\n",
    "postCode = re.compile(r'^[A-Z][0-9][A-Z][\\s][0-9][A-Z][0-9]$')\n",
    "\n",
    "postCodeStripped = re.compile(r'^[A-Z][0-9][A-Z][0-9][A-Z][0-9]$')\n",
    "```\n",
    "\n",
    "After the cleaning code was added this is the output of the audit:\n",
    "\n",
    "```\n",
    "U#U #U# : 1163\n",
    "```\n",
    "\n",
    "Good. That's better."
   ]
  },
  {
   "cell_type": "markdown",
   "metadata": {},
   "source": [
    "## Analysis\n",
    "\n",
    "Okay. The data is loaded into the database and cleaned (kind of). Now to run some queries to answer my original questions.\n",
    "\n",
    "### What does the map data look like? Size of file, number of elements, number of nodes, number of ways and number of unique users.\n",
    "\n",
    "Answered using the following queries:"
   ]
  },
  {
   "cell_type": "code",
   "execution_count": 8,
   "metadata": {
    "collapsed": false
   },
   "outputs": [
    {
     "name": "stdout",
     "output_type": "stream",
     "text": [
      "\n",
      "Data Summary\n",
      "==================================\n",
      "Storage Size: 70680576 bytes\n",
      "Total number of elements: 835823 \n",
      "Total number of nodes: 745943 \n",
      "Total number of ways: 89838 \n",
      "Total number of unique users: 864 \n"
     ]
    }
   ],
   "source": [
    "#Use the collstats fucntion to get the file size and nunmber of elemements\n",
    "stats = db.command(\"collstats\", \"maps\")\n",
    "\n",
    "total = stats['count']\n",
    "size = stats['storageSize']\n",
    "\n",
    "#Use the count function to get the amount of each type\n",
    "nodes = db.maps.find({'type':'node'}).count()\n",
    "ways = db.maps.find({'type':'way'}).count()\n",
    "\n",
    "#Find the unique users query\n",
    "#Group by users, then group and count the results.\n",
    "pipeline = [{\"$group\": { \"_id\": \"$created.user\", \"total\" : {\"$sum\":1}}},\n",
    "            {\"$group\": { \"_id\": \"null\", \"total\" : {\"$sum\":1}}}]\n",
    "\n",
    "results = list(db.maps.aggregate(pipeline))\n",
    "\n",
    "uniqueUsers = results[0]['total']\n",
    "\n",
    "print \"\\nData Summary\"\n",
    "print \"==================================\"\n",
    "print \"Storage Size: %d bytes\" % size\n",
    "print \"Total number of elements: %d \" % total\n",
    "print \"Total number of nodes: %d \" % nodes\n",
    "print \"Total number of ways: %d \" % ways\n",
    "print \"Total number of unique users: %d \" % uniqueUsers"
   ]
  },
  {
   "cell_type": "markdown",
   "metadata": {},
   "source": [
    "### Where does coffee shop rank as an cuisine?\n",
    "\n",
    "Answered using the following query"
   ]
  },
  {
   "cell_type": "code",
   "execution_count": 10,
   "metadata": {
    "collapsed": false
   },
   "outputs": [
    {
     "name": "stdout",
     "output_type": "stream",
     "text": [
      "\n",
      "Top 10 cuisine types)\n",
      "coffee_shop:199\n",
      "burger:79\n",
      "pizza:50\n",
      "chinese:43\n",
      "sandwich:42\n",
      "vietnamese:24\n",
      "japanese:23\n",
      "american:18\n",
      "italian:15\n",
      "mexican:15\n"
     ]
    }
   ],
   "source": [
    "#Query how many non null cuisines sorted\n",
    "pipeline = [{\"$match\" : {\"cuisine\":{\"$exists\":{\"$ne\":\"null\"}}}},\n",
    "            {\"$group\": { \"_id\": \"$cuisine\", \"total\" : {\"$sum\":1}}},\n",
    "            {\"$sort\": { \"total\": -1}}]\n",
    "\n",
    "results = list(db.maps.aggregate(pipeline))\n",
    "\n",
    "\n",
    "print '\\nTop 10 cuisine types'\n",
    "i = 0\n",
    "for result in results:\n",
    "    if i < 10:\n",
    "        print '%s:%s' % (result['_id'],result['total'])\n",
    "    else:\n",
    "        break\n",
    "    i += 1"
   ]
  },
  {
   "cell_type": "markdown",
   "metadata": {},
   "source": [
    "Coffee shops seem to be the most popular cuisine added.\n",
    "\n",
    "### What users have added the most kind of coffee shops?\n",
    "\n",
    "Who likes coffee the most? Let's find out!"
   ]
  },
  {
   "cell_type": "code",
   "execution_count": 12,
   "metadata": {
    "collapsed": false
   },
   "outputs": [
    {
     "name": "stdout",
     "output_type": "stream",
     "text": [
      "\n",
      "Top 5 coffee lovers (the full list in coffeeLovers.txt)\n",
      "AKC:65\n",
      "andrewpmk:30\n",
      "JamesBadger:10\n",
      "MuzikMachine:8\n",
      "abDoug:7\n"
     ]
    }
   ],
   "source": [
    "#Find nodes where cuisine is coffee_shop, then group and count the users (where there is a user) then sort\n",
    "pipeline = [{\"$match\" : {\"cuisine\":\"coffee_shop\"}},\n",
    "            {\"$match\" : {\"created.user\":{\"$exists\":{\"$ne\":\"null\"}}}},\n",
    "            {\"$group\": { \"_id\": \"$created.user\", \"total\" : {\"$sum\":1}}},\n",
    "            {\"$sort\": { \"total\": -1}}]\n",
    "\n",
    "results = list(db.maps.aggregate(pipeline))\n",
    "\n",
    "print '\\nTop 5 coffee lovers'\n",
    "\n",
    "i = 0\n",
    "for result in results:\n",
    "    if i < 5:\n",
    "        print '%s:%s' % (result['_id'],result['total'])\n",
    "    else:\n",
    "        break\n",
    "    i += 1"
   ]
  },
  {
   "cell_type": "markdown",
   "metadata": {},
   "source": [
    "AKC seems to like coffee a lot. What else do they like?"
   ]
  },
  {
   "cell_type": "code",
   "execution_count": 15,
   "metadata": {
    "collapsed": false
   },
   "outputs": [
    {
     "name": "stdout",
     "output_type": "stream",
     "text": [
      "coffee_shop:65\n",
      "pizza:24\n",
      "chinese:23\n",
      "sandwich:22\n",
      "vietnamese:12\n",
      "burger:11\n",
      "indian:10\n",
      "japanese:9\n",
      "mexican:7\n",
      "asian:7\n",
      "thai:5\n",
      "steak_house:5\n",
      "ice_cream:5\n",
      "italian:5\n",
      "chicken:4\n",
      "greek:3\n",
      "kebab:3\n",
      "sushi:2\n",
      "american:2\n",
      "seafood:2\n",
      "pasta:1\n",
      "authentic;chinese:1\n",
      "noodle:1\n",
      "nepalese:1\n",
      "indian;pakistani:1\n",
      "japanese;sushi:1\n",
      "pho:1\n",
      "korean:1\n",
      "fish:1\n",
      "international:1\n"
     ]
    }
   ],
   "source": [
    "#Find nodes where user is AKC, then group and count the cuisines (where there is a user) then sort\n",
    "pipeline = [{\"$match\" : {\"created.user\":\"AKC\"}},\n",
    "            {\"$match\" : {\"cuisine\":{\"$exists\":{\"$ne\":\"null\"}}}},\n",
    "            {\"$group\": { \"_id\": \"$cuisine\", \"total\" : {\"$sum\":1}}},\n",
    "            {\"$sort\": { \"total\": -1}}]\n",
    "\n",
    "results = list(db.maps.aggregate(pipeline))\n",
    "\n",
    "for result in results:\n",
    "     print '%s:%s' % (result['_id'],result['total'])\n"
   ]
  },
  {
   "cell_type": "markdown",
   "metadata": {},
   "source": [
    "I guess AKC just likes adding things to the openmap. Good for them."
   ]
  },
  {
   "cell_type": "markdown",
   "metadata": {},
   "source": [
    "### What are the most common coffee shop chains?\n",
    "\n",
    "Group by the name where cuisine is coffee_shop"
   ]
  },
  {
   "cell_type": "code",
   "execution_count": 19,
   "metadata": {
    "collapsed": false
   },
   "outputs": [
    {
     "name": "stdout",
     "output_type": "stream",
     "text": [
      "\n",
      "Top 10 coffee shops\n",
      "Tim Hortons:39\n",
      "Starbucks:28\n",
      "Starbucks Coffee:23\n",
      "Second Cup:11\n",
      "Jugo Juice:9\n",
      "Good Earth Cafe:5\n",
      "Booster Juice:4\n",
      "Orange Julius:4\n",
      "Good Earth Coffeehouse and Bakery:4\n",
      "The Second Cup:2\n"
     ]
    }
   ],
   "source": [
    "#Find all coffee shops with names. Group by name and report and sort the count\n",
    "pipeline = [{\"$match\" : {\"cuisine\":\"coffee_shop\"}},\n",
    "            {\"$match\" : {\"name\":{\"$exists\":{\"$ne\":\"null\"}}}},\n",
    "            {\"$group\": { \"_id\": \"$name\", \"total\" : {\"$sum\":1}}},\n",
    "            {\"$sort\": { \"total\": -1}}]\n",
    "\n",
    "results = list(db.maps.aggregate(pipeline))\n",
    "print '\\nTop 10 coffee shops'\n",
    "i = 0\n",
    "for result in results:\n",
    "    if i < 10:\n",
    "        print '%s:%s' % (result['_id'],result['total'])\n",
    "    else:\n",
    "        break\n",
    "    \n",
    "    i += 1\n"
   ]
  },
  {
   "cell_type": "markdown",
   "metadata": {},
   "source": [
    "Tim Hortons wins! Wait, there are Starbucks and Starbucks Coffee. They should be the same, and then it would win. In fact there are a few on this list that need cleaning. Good Earth Cafe and Good Earth Coffeehouse and Bakery for example. Cleaning this up would be a future improvement (unless you are a big Timmy's fan).\n",
    "\n",
    "Probably a good way to attack this would be to create a renaming dict, and use it to clean the names of coffee shops (and other kinds of things). Creating the dict would likely be a manual process..."
   ]
  },
  {
   "cell_type": "markdown",
   "metadata": {},
   "source": [
    "### What are the names, phone numbers and postal codes of all the coffee shops?"
   ]
  },
  {
   "cell_type": "code",
   "execution_count": 25,
   "metadata": {
    "collapsed": false
   },
   "outputs": [
    {
     "name": "stdout",
     "output_type": "stream",
     "text": [
      "name: Starbuck's, phone: +1-403-208-7100, postal code: T3G 4J8\n",
      "name: Menchies, phone: +1-403-460-7871, postal code: T2L 2L3\n",
      "name: Franca's, phone: +1-403-277-0766, postal code: T2E 3P5\n",
      "name: Tim Hortons, phone: +1-403-255-4886, postal code: T2H 0L3\n"
     ]
    }
   ],
   "source": [
    "#Find node where cuisine is coffee_shop and that have name, address and postal code\n",
    "pipeline = [{\"$match\" : {\"cuisine\":\"coffee_shop\"}},\n",
    "            {\"$match\" : {\"$and\": [{\"name\":{\"$exists\":{\"$ne\":\"null\"}}},\n",
    "                                  {\"phone\":{\"$exists\":{\"$ne\":\"null\"}}},\n",
    "                                  {\"address.postcode\":{\"$exists\":{\"$ne\":\"null\"}}}]}}]\n",
    "\n",
    "results = list(db.maps.aggregate(pipeline))\n",
    "\n",
    "for r in results:\n",
    "    \n",
    "    print \"name: %s, phone: %s, postal code: %s\" % (r['name'],r['phone'],r['address']['postcode'])"
   ]
  },
  {
   "cell_type": "markdown",
   "metadata": {},
   "source": [
    "Oh. Thats a little sad. Not heaps of coffee shops with phone numbers and postal codes!"
   ]
  },
  {
   "cell_type": "markdown",
   "metadata": {},
   "source": [
    "## Improvements/Thoughts\n",
    "\n",
    "- Create 'business name' dict for cleaning business names. This would help to better analyze businesses in the area. The major downside is that it would be difficult to do programatically and would be a long manual process.\n",
    "\n",
    "- A small amount of users (less then 1000) have added a significant numbers of entries. I wonder why? Is it part of their job?\n",
    "\n",
    "- Other then coffee, Calgarians really like burgers and pizza. I wonder how this ranks against the rest of North America. My guess is very similar.\n",
    "\n"
   ]
  }
 ],
 "metadata": {
  "kernelspec": {
   "display_name": "Python 2",
   "language": "python",
   "name": "python2"
  },
  "language_info": {
   "codemirror_mode": {
    "name": "ipython",
    "version": 2
   },
   "file_extension": ".py",
   "mimetype": "text/x-python",
   "name": "python",
   "nbconvert_exporter": "python",
   "pygments_lexer": "ipython2",
   "version": "2.7.11"
  }
 },
 "nbformat": 4,
 "nbformat_minor": 0
}
