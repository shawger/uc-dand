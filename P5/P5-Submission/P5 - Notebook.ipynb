{
 "cells": [
  {
   "cell_type": "code",
   "execution_count": 1,
   "metadata": {
    "collapsed": true
   },
   "outputs": [],
   "source": [
    "import sys\n",
    "import pickle\n",
    "import matplotlib\n",
    "import matplotlib.pyplot as plt\n",
    "import numpy as np\n",
    "import pandas as pd\n",
    "import seaborn as sns\n",
    "\n",
    "%matplotlib inline\n",
    "\n",
    "sys.path.append(\"../tools/\")\n",
    "\n",
    "from feature_format import featureFormat, targetFeatureSplit\n",
    "from tester import dump_classifier_and_data\n",
    "\n",
    "# The following function is used to create counts and percentages in the pie\n",
    "def make_autopct(values):\n",
    "  def my_autopct(pct):\n",
    "      total = sum(values)\n",
    "      val = int(round(pct*total/100.0))\n",
    "      return '{p:.2f}%  ({v:d})'.format(p=pct,v=val)\n",
    "  return my_autopct"
   ]
  },
  {
   "cell_type": "markdown",
   "metadata": {},
   "source": [
    "## Understanding the Dataset and Question\n",
    "\n",
    "First load the data into pandas so we can explore"
   ]
  },
  {
   "cell_type": "code",
   "execution_count": 2,
   "metadata": {
    "collapsed": false
   },
   "outputs": [],
   "source": [
    "# Load data\n",
    "\n",
    "with open(\"final_project_dataset.pkl\", \"r\") as data_file:\n",
    "    data_dict = pickle.load(data_file)\n",
    "\n",
    "my_dataset = data_dict\n",
    "\n",
    "df = pd.DataFrame.from_dict(my_dataset,orient='index')\n",
    "\n",
    "#Convert fields to numeric fields.\n",
    "df['salary'] = pd.to_numeric(df['salary'],errors='coerce')\n",
    "df['deferral_payments'] = pd.to_numeric(df['deferral_payments'],errors='coerce')\n",
    "df['total_payments'] = pd.to_numeric(df['total_payments'],errors='coerce')\n",
    "df['deferral_payments'] = pd.to_numeric(df['deferral_payments'],errors='coerce')\n",
    "df['exercised_stock_options'] = pd.to_numeric(df['exercised_stock_options'],errors='coerce')\n",
    "df['bonus'] = pd.to_numeric(df['bonus'],errors='coerce')\n",
    "df['restricted_stock'] = pd.to_numeric(df['restricted_stock'],errors='coerce')\n",
    "df['total_stock_value'] = pd.to_numeric(df['total_stock_value'],errors='coerce')\n",
    "df['expenses'] = pd.to_numeric(df['expenses'],errors='coerce')\n",
    "df['loan_advances'] = pd.to_numeric(df['loan_advances'],errors='coerce')\n",
    "df['long_term_incentive'] = pd.to_numeric(df['long_term_incentive'],errors='coerce')\n",
    "df['deferred_income'] = pd.to_numeric(df['deferred_income'],errors='coerce')\n",
    "df['from_this_person_to_poi'] = pd.to_numeric(df['from_this_person_to_poi'],errors='coerce')\n",
    "df['from_poi_to_this_person'] = pd.to_numeric(df['from_poi_to_this_person'],errors='coerce')\n",
    "df['shared_receipt_with_poi'] = pd.to_numeric(df['shared_receipt_with_poi'],errors='coerce')\n",
    "df['to_messages'] = pd.to_numeric(df['to_messages'],errors='coerce')\n",
    "df['from_messages'] = pd.to_numeric(df['from_messages'],errors='coerce')\n",
    "df['director_fees'] = pd.to_numeric(df['director_fees'],errors='coerce')\n",
    "df['other'] = pd.to_numeric(df['other'],errors='coerce')\n",
    "df['restricted_stock_deferred'] = pd.to_numeric(df['restricted_stock_deferred'],errors='coerce')"
   ]
  },
  {
   "cell_type": "markdown",
   "metadata": {},
   "source": [
    "### Total number of data points"
   ]
  },
  {
   "cell_type": "code",
   "execution_count": 3,
   "metadata": {
    "collapsed": false
   },
   "outputs": [
    {
     "name": "stdout",
     "output_type": "stream",
     "text": [
      "Total number of data points: 146\n"
     ]
    }
   ],
   "source": [
    "print \"Total number of data points: \" + str(len(df))"
   ]
  },
  {
   "cell_type": "markdown",
   "metadata": {},
   "source": [
    "### Allocation across classes (POI/non-POI)"
   ]
  },
  {
   "cell_type": "code",
   "execution_count": 4,
   "metadata": {
    "collapsed": false
   },
   "outputs": [
    {
     "data": {
      "text/plain": [
       "<matplotlib.axes._subplots.AxesSubplot at 0x4532828>"
      ]
     },
     "execution_count": 4,
     "metadata": {},
     "output_type": "execute_result"
    },
    {
     "data": {
      "image/png": "[encoded data removed]",
      "text/plain": [
       "<matplotlib.figure.Figure at 0x45322e8>"
      ]
     },
     "metadata": {},
     "output_type": "display_data"
    }
   ],
   "source": [
    "poiVsNotPoi = df.groupby('poi')['poi'].count()\n",
    "\n",
    "poiVsNotPoi.plot.pie(figsize=(8, 8),\n",
    "                    autopct = make_autopct(poiVsNotPoi))"
   ]
  },
  {
   "cell_type": "markdown",
   "metadata": {},
   "source": [
    "### Number of features used"
   ]
  },
  {
   "cell_type": "code",
   "execution_count": 5,
   "metadata": {
    "collapsed": false
   },
   "outputs": [
    {
     "name": "stdout",
     "output_type": "stream",
     "text": [
      "feature and data types\n",
      "salary                       float64\n",
      "to_messages                  float64\n",
      "deferral_payments            float64\n",
      "total_payments               float64\n",
      "exercised_stock_options      float64\n",
      "bonus                        float64\n",
      "restricted_stock             float64\n",
      "shared_receipt_with_poi      float64\n",
      "restricted_stock_deferred    float64\n",
      "total_stock_value            float64\n",
      "expenses                     float64\n",
      "loan_advances                float64\n",
      "from_messages                float64\n",
      "other                        float64\n",
      "from_this_person_to_poi      float64\n",
      "poi                             bool\n",
      "director_fees                float64\n",
      "deferred_income              float64\n",
      "long_term_incentive          float64\n",
      "email_address                 object\n",
      "from_poi_to_this_person      float64\n",
      "dtype: object\n",
      "\n",
      "Number of features (poi is not a feature): 20\n"
     ]
    }
   ],
   "source": [
    "print \"feature and data types\"\n",
    "print df.dtypes\n",
    "\n",
    "print \"\\nNumber of features (poi is not a feature): \" + str(len(list(df.columns.values)) - 1) "
   ]
  },
  {
   "cell_type": "markdown",
   "metadata": {},
   "source": [
    "### Are there features with many missing values? etc."
   ]
  },
  {
   "cell_type": "code",
   "execution_count": 6,
   "metadata": {
    "collapsed": false
   },
   "outputs": [
    {
     "name": "stdout",
     "output_type": "stream",
     "text": [
      "Missing values\n",
      "salary                        51\n",
      "to_messages                   60\n",
      "deferral_payments            107\n",
      "total_payments                21\n",
      "exercised_stock_options       44\n",
      "bonus                         64\n",
      "restricted_stock              36\n",
      "shared_receipt_with_poi       60\n",
      "restricted_stock_deferred    128\n",
      "total_stock_value             20\n",
      "expenses                      51\n",
      "loan_advances                142\n",
      "from_messages                 60\n",
      "other                         53\n",
      "from_this_person_to_poi       60\n",
      "poi                            0\n",
      "director_fees                129\n",
      "deferred_income               97\n",
      "long_term_incentive           80\n",
      "email_address                  0\n",
      "from_poi_to_this_person       60\n",
      "dtype: int64\n"
     ]
    }
   ],
   "source": [
    "print \"Missing values\"\n",
    "print df.isnull().sum()"
   ]
  },
  {
   "cell_type": "markdown",
   "metadata": {},
   "source": [
    "## Missing features, poi vs non poi\n",
    "\n",
    "Maybe poi's are more likely to have some features"
   ]
  },
  {
   "cell_type": "code",
   "execution_count": 7,
   "metadata": {
    "collapsed": false
   },
   "outputs": [
    {
     "name": "stdout",
     "output_type": "stream",
     "text": [
      "                            0         1    2         3         4\n",
      "salary                      1  0.055556   50  0.390625 -0.335069\n",
      "to_messages                 4  0.222222   56  0.437500 -0.215278\n",
      "deferral_payments          13  0.722222   94  0.734375 -0.012153\n",
      "total_payments              0  0.000000   21  0.164062 -0.164062\n",
      "exercised_stock_options     6  0.333333   38  0.296875  0.036458\n",
      "bonus                       2  0.111111   62  0.484375 -0.373264\n",
      "restricted_stock            1  0.055556   35  0.273438 -0.217882\n",
      "shared_receipt_with_poi     4  0.222222   56  0.437500 -0.215278\n",
      "restricted_stock_deferred  18  1.000000  110  0.859375  0.140625\n",
      "total_stock_value           0  0.000000   20  0.156250 -0.156250\n",
      "expenses                    0  0.000000   51  0.398438 -0.398438\n",
      "loan_advances              17  0.944444  125  0.976562 -0.032118\n",
      "from_messages               4  0.222222   56  0.437500 -0.215278\n",
      "other                       0  0.000000   53  0.414062 -0.414062\n",
      "from_this_person_to_poi     4  0.222222   56  0.437500 -0.215278\n",
      "poi                         0  0.000000    0  0.000000  0.000000\n",
      "director_fees              18  1.000000  111  0.867188  0.132812\n",
      "deferred_income             7  0.388889   90  0.703125 -0.314236\n",
      "long_term_incentive         6  0.333333   74  0.578125 -0.244792\n",
      "email_address               0  0.000000    0  0.000000  0.000000\n",
      "from_poi_to_this_person     4  0.222222   56  0.437500 -0.215278\n"
     ]
    }
   ],
   "source": [
    "poiIsNull = df[df['poi'] == True].isnull().sum()\n",
    "\n",
    "poiPctNull = poiIsNull / len(df[df['poi'] == True])\n",
    "\n",
    "notPoiIsNull = df[df['poi'] != True].isnull().sum()\n",
    "\n",
    "notPoiPctNull = notPoiIsNull / len(df[df['poi'] != True])\n",
    "print pd.concat([poiIsNull,poiPctNull,notPoiIsNull,notPoiPctNull,poiPctNull-notPoiPctNull], axis=1)"
   ]
  },
  {
   "cell_type": "markdown",
   "metadata": {},
   "source": [
    "There is a lot of data missing....\n",
    "\n",
    "Although it looks like there are some trends here (for example):\n",
    "\n",
    "- Every poi is missing restricted_stock_deferred.\n",
    "- 5% of POIs are missing salary, but 40% of non pois are missing salary\n",
    "- No POI is missing 'other' but 41% of non pois are missing\n",
    "\n",
    "Trends like this make me think that for the financial data I should make some counters (for and against being a a poi)"
   ]
  },
  {
   "cell_type": "markdown",
   "metadata": {
    "collapsed": true
   },
   "source": [
    "## Features\n",
    "\n",
    "For testing features I will run tests with the 3 classifiers... I want to test adding/changing features indpedent of the classifiers.\n",
    "\n",
    "I am going to use email data: \n",
    "\n",
    "to_messages\n",
    "from_messages\n",
    "shared_receipt_with_poi\n",
    "from_this_person_to_poi\n",
    "from_poi_to_this_person\n",
    "\n",
    "And use the financial as counters:\n",
    "\n",
    "poi for things that when the there is a not null value is more likely a poi.\n",
    "non_poi for things that when the there is a not null value is more likely not a poi.\n",
    "\n",
    "salary (poi)\n",
    "\n",
    "bonus (poi)\n",
    "\n",
    "restricted_stock (poi)\n",
    "\n",
    "restricted_stock_deferred (non_poi)\n",
    "\n",
    "expenses (poi)\n",
    "\n",
    "other (poi)\n",
    "\n",
    "director_fees (non_poi)\n",
    "\n",
    "deferred_income (poi)\n",
    "\n",
    "long_term_incentive (poi)\n",
    "\n",
    "### Outliers"
   ]
  },
  {
   "cell_type": "code",
   "execution_count": 8,
   "metadata": {
    "collapsed": false
   },
   "outputs": [
    {
     "name": "stdout",
     "output_type": "stream",
     "text": [
      "Distributions\n",
      "------------------\n",
      "count       86.000000\n",
      "mean      2073.860465\n",
      "std       2582.700981\n",
      "min         57.000000\n",
      "25%        541.250000\n",
      "50%       1211.000000\n",
      "75%       2634.750000\n",
      "max      15149.000000\n",
      "Name: to_messages, dtype: float64\n",
      "SHAPIRO RICHARD S    15149.0\n",
      "KEAN STEVEN J        12754.0\n",
      "KITCHEN LOUISE        8305.0\n",
      "BELDEN TIMOTHY N      7991.0\n",
      "BECK SALLY W          7315.0\n",
      "Name: to_messages, dtype: float64\n",
      "\n",
      "\n",
      "count       86.000000\n",
      "mean       608.790698\n",
      "std       1841.033949\n",
      "min         12.000000\n",
      "25%         22.750000\n",
      "50%         41.000000\n",
      "75%        145.500000\n",
      "max      14368.000000\n",
      "Name: from_messages, dtype: float64\n",
      "KAMINSKI WINCENTY J    14368.0\n",
      "KEAN STEVEN J           6759.0\n",
      "BECK SALLY W            4343.0\n",
      "DELAINEY DAVID W        3069.0\n",
      "MCCONNELL MICHAEL S     2742.0\n",
      "Name: from_messages, dtype: float64\n",
      "\n",
      "\n",
      "count     86.000000\n",
      "mean      64.895349\n",
      "std       86.979244\n",
      "min        0.000000\n",
      "25%       10.000000\n",
      "50%       35.000000\n",
      "75%       72.250000\n",
      "max      528.000000\n",
      "Name: from_poi_to_this_person, dtype: float64\n",
      "LAVORATO JOHN J     528.0\n",
      "DIETRICH JANET R    305.0\n",
      "KITCHEN LOUISE      251.0\n",
      "FREVERT MARK A      242.0\n",
      "COLWELL WESLEY      240.0\n",
      "Name: from_poi_to_this_person, dtype: float64\n",
      "\n",
      "\n",
      "count     86.000000\n",
      "mean      41.232558\n",
      "std      100.073111\n",
      "min        0.000000\n",
      "25%        1.000000\n",
      "50%        8.000000\n",
      "75%       24.750000\n",
      "max      609.000000\n",
      "Name: from_this_person_to_poi, dtype: float64\n",
      "DELAINEY DAVID W       609.0\n",
      "LAVORATO JOHN J        411.0\n",
      "KEAN STEVEN J          387.0\n",
      "BECK SALLY W           386.0\n",
      "MCCONNELL MICHAEL S    194.0\n",
      "Name: from_this_person_to_poi, dtype: float64\n",
      "\n",
      "\n",
      "count      86.000000\n",
      "mean     1176.465116\n",
      "std      1178.317641\n",
      "min         2.000000\n",
      "25%       249.750000\n",
      "50%       740.500000\n",
      "75%      1888.250000\n",
      "max      5521.000000\n",
      "Name: shared_receipt_with_poi, dtype: float64\n",
      "BELDEN TIMOTHY N      5521.0\n",
      "SHAPIRO RICHARD S     4527.0\n",
      "LAVORATO JOHN J       3962.0\n",
      "WHALLEY LAWRENCE G    3920.0\n",
      "KITCHEN LOUISE        3669.0\n",
      "Name: shared_receipt_with_poi, dtype: float64\n",
      "\n",
      "\n"
     ]
    },
    {
     "name": "stderr",
     "output_type": "stream",
     "text": [
      "C:\\Users\\nicka\\Anaconda2\\lib\\site-packages\\ipykernel\\__main__.py:10: FutureWarning: sort(columns=....) is deprecated, use sort_values(by=.....)\n"
     ]
    }
   ],
   "source": [
    "email_data = ['to_messages',\n",
    "              'from_messages',\n",
    "              'from_poi_to_this_person',\n",
    "              'from_this_person_to_poi',\n",
    "              'shared_receipt_with_poi']\n",
    "\n",
    "print \"Distributions\\n------------------\"\n",
    "for field in email_data:\n",
    "    print df[field].describe()\n",
    "    sortedDF = df.sort(field, ascending=0)\n",
    "    print sortedDF[field].head()\n",
    "    print \"\\n\""
   ]
  },
  {
   "cell_type": "markdown",
   "metadata": {},
   "source": [
    "For these, there appearsto be any real standout outliers.\n",
    "\n",
    "There is a row called 'TOTAL' and a row called 'THE TRAVEL AGENCY IN THE PARK' which should be removed."
   ]
  },
  {
   "cell_type": "code",
   "execution_count": 9,
   "metadata": {
    "collapsed": false,
    "scrolled": false
   },
   "outputs": [],
   "source": [
    "df = df.drop('TOTAL')\n",
    "df = df.drop('THE TRAVEL AGENCY IN THE PARK')"
   ]
  },
  {
   "cell_type": "markdown",
   "metadata": {},
   "source": [
    "### Missing Values\n",
    "\n",
    "For the following I need to figure out what to do with null values. 0 or mean?\n",
    "\n",
    "to_messages\n",
    "from_messages\n",
    "shared_receipt_with_poi\n",
    "from_this_person_to_poi\n",
    "from_poi_to_this_person\n",
    "\n",
    "My thought is to_messages and from_messages should recieve the mean (everyone sends emails) while the poi emails with null get a 0."
   ]
  },
  {
   "cell_type": "code",
   "execution_count": 10,
   "metadata": {
    "collapsed": false
   },
   "outputs": [
    {
     "name": "stdout",
     "output_type": "stream",
     "text": [
      "All zero:\n",
      "Classifier 1 - Acc: 0.666667 Precision: 0.019231. Recall: 0.083333\n",
      "Classifier 2 - Acc: 0.840278 Precision: 0.171429. Recall: 0.341667\n",
      "Classifier 3 - Acc: 0.875000 Precision: 0.000000. Recall: 0.000000\n"
     ]
    },
    {
     "name": "stderr",
     "output_type": "stream",
     "text": [
      "C:\\Users\\nicka\\Anaconda2\\lib\\site-packages\\sklearn\\metrics\\classification.py:1074: UndefinedMetricWarning: Precision is ill-defined and being set to 0.0 due to no predicted samples.\n",
      "  'precision', 'predicted', average, warn_for)\n"
     ]
    },
    {
     "name": "stdout",
     "output_type": "stream",
     "text": [
      "Classifier 4 - Acc: 0.840278 Precision: 0.225000. Recall: 0.291667\n",
      "Classifier 5 - Acc: 0.868056 Precision: 0.000000. Recall: 0.062500\n",
      "All mean:\n",
      "Classifier 1 - Acc: 0.666667 Precision: 0.019231. Recall: 0.083333\n",
      "Classifier 2 - Acc: 0.819444 Precision: 0.162500. Recall: 0.291667\n",
      "Classifier 3 - Acc: 0.875000 Precision: 0.000000. Recall: 0.000000\n",
      "Classifier 4 - Acc: 0.840278 Precision: 0.225000. Recall: 0.291667\n",
      "Classifier 5 - Acc: 0.868056 Precision: 0.000000. Recall: 0.000000\n",
      "Mixed:\n",
      "Classifier 1 - Acc: 0.652778 Precision: 0.009615. Recall: 0.041667\n",
      "Classifier 2 - Acc: 0.840278 Precision: 0.283333. Recall: 0.391667\n",
      "Classifier 3 - Acc: 0.875000 Precision: 0.000000. Recall: 0.000000\n",
      "Classifier 4 - Acc: 0.805556 Precision: 0.000000. Recall: 0.000000\n",
      "Classifier 5 - Acc: 0.868056 Precision: 0.000000. Recall: 0.000000\n"
     ]
    }
   ],
   "source": [
    "email_data = ['to_messages',\n",
    "              'from_messages',\n",
    "              'from_poi_to_this_person',\n",
    "              'from_this_person_to_poi',\n",
    "              'shared_receipt_with_poi']\n",
    "\n",
    "#Fill all NAs with 0s\n",
    "df_all_zero = df.copy()\n",
    "df_all_zero[email_data] = df_all_zero[email_data].fillna(0)\n",
    "\n",
    "#Fill all NAs with the mean of the column\n",
    "df_all_mean = df.copy()\n",
    "df_all_mean[email_data] = df_all_zero[email_data].fillna(df[email_data].mean())\n",
    "\n",
    "#Fill some NAs with mean, and other with 9\n",
    "df_mixed = df.copy()\n",
    "df_mixed[email_data[:2]] = df_mixed[email_data[:2]].fillna(df[email_data[:2]].mean())\n",
    "df_mixed[email_data[2:]] = df_mixed[email_data[2:]].fillna(0)\n",
    "\n",
    "features = [('poi')] + email_data\n",
    "\n",
    "import ml_test\n",
    "\n",
    "#Import the classifiers\n",
    "from sklearn.naive_bayes import GaussianNB\n",
    "from sklearn import tree\n",
    "from sklearn import svm\n",
    "from sklearn.ensemble import AdaBoostClassifier\n",
    "from sklearn.ensemble import RandomForestClassifier\n",
    "\n",
    "gnb = GaussianNB()\n",
    "dt = tree.DecisionTreeClassifier()\n",
    "svc = svm.SVC()\n",
    "ada = AdaBoostClassifier(n_estimators=100)\n",
    "rf = RandomForestClassifier(n_estimators=100)\n",
    "\n",
    "clfs = [gnb,dt,svc,ada,rf]\n",
    "\n",
    "#Test each data set with the classifiers\n",
    "print \"All zero:\"\n",
    "ml_test.testMany(df_all_zero,features,clfs,0.3)\n",
    "\n",
    "print \"All mean:\"\n",
    "ml_test.testMany(df_all_mean,features,clfs,0.3)\n",
    "\n",
    "print \"Mixed:\"\n",
    "ml_test.testMany(df_mixed,features,clfs,0.3)"
   ]
  },
  {
   "cell_type": "markdown",
   "metadata": {},
   "source": [
    "- Clearly SVM is just guessing false for everyone. That is why it's accuracy is high but it's recall is 0.\n",
    "\n",
    "- Using 0's gives the best recall in nb and dt, so lets go with that."
   ]
  },
  {
   "cell_type": "code",
   "execution_count": 11,
   "metadata": {
    "collapsed": false
   },
   "outputs": [],
   "source": [
    "df = df_all_zero"
   ]
  },
  {
   "cell_type": "markdown",
   "metadata": {},
   "source": [
    "### Feature Testing\n",
    "\n",
    "Test out how adding and removing  features makes a difference."
   ]
  },
  {
   "cell_type": "code",
   "execution_count": 12,
   "metadata": {
    "collapsed": false
   },
   "outputs": [
    {
     "name": "stdout",
     "output_type": "stream",
     "text": [
      "to_messages:\n",
      "Classifier 1 - Acc: 0.666667 Precision: 0.019231. Recall: 0.083333\n",
      "Classifier 2 - Acc: 0.840278 Precision: 0.350000. Recall: 0.250000\n",
      "Classifier 3 - Acc: 0.875000 Precision: 0.000000. Recall: 0.000000\n",
      "Classifier 4 - Acc: 0.833333 Precision: 0.216667. Recall: 0.175000\n",
      "Classifier 5 - Acc: 0.847222 Precision: 0.500000. Recall: 0.145833\n",
      "from_messages:\n",
      "Classifier 1 - Acc: 0.784722 Precision: 0.035714. Recall: 0.041667\n",
      "Classifier 2 - Acc: 0.847222 Precision: 0.145833. Recall: 0.208333\n",
      "Classifier 3 - Acc: 0.875000 Precision: 0.000000. Recall: 0.000000\n",
      "Classifier 4 - Acc: 0.833333 Precision: 0.083333. Recall: 0.062500\n",
      "Classifier 5 - Acc: 0.868056 Precision: 0.125000. Recall: 0.125000\n",
      "from_poi_to_this_person:\n",
      "Classifier 1 - Acc: 0.666667 Precision: 0.026786. Recall: 0.125000\n",
      "Classifier 2 - Acc: 0.854167 Precision: 0.154762. Recall: 0.208333\n",
      "Classifier 3 - Acc: 0.875000 Precision: 0.000000. Recall: 0.000000\n",
      "Classifier 4 - Acc: 0.840278 Precision: 0.125000. Recall: 0.062500\n",
      "Classifier 5 - Acc: 0.854167 Precision: 0.375000. Recall: 0.062500\n",
      "from_this_person_to_poi:\n",
      "Classifier 1 - Acc: 0.659722 Precision: 0.104945. Recall: 0.216667\n",
      "Classifier 2 - Acc: 0.819444 Precision: 0.200000. Recall: 0.291667\n",
      "Classifier 3 - Acc: 0.875000 Precision: 0.000000. Recall: 0.000000\n",
      "Classifier 4 - Acc: 0.840278 Precision: 0.000000. Recall: 0.000000\n",
      "Classifier 5 - Acc: 0.868056 Precision: 0.083333. Recall: 0.062500\n",
      "shared_receipt_with_poi:\n",
      "Classifier 1 - Acc: 0.659722 Precision: 0.018519. Recall: 0.083333\n",
      "Classifier 2 - Acc: 0.812500 Precision: 0.125000. Recall: 0.208333\n",
      "Classifier 3 - Acc: 0.875000 Precision: 0.000000. Recall: 0.000000\n",
      "Classifier 4 - Acc: 0.861111 Precision: 0.125000. Recall: 0.050000\n",
      "Classifier 5 - Acc: 0.861111 Precision: 0.000000. Recall: 0.083333\n"
     ]
    }
   ],
   "source": [
    "gnb = GaussianNB()\n",
    "dt = tree.DecisionTreeClassifier()\n",
    "svc = svm.SVC()\n",
    "ada = AdaBoostClassifier(n_estimators=10)\n",
    "rf = RandomForestClassifier(n_estimators=10)\n",
    "\n",
    "clfs = [gnb,dt,svc,ada,rf]\n",
    "\n",
    "#Test each data set with some features removed\n",
    "print \"to_messages:\"\n",
    "ml_test.testMany(df,features[:1] + features[2:],clfs,0.3)\n",
    "\n",
    "print \"from_messages:\"\n",
    "ml_test.testMany(df,features[:2] + features[3:],clfs,0.3)\n",
    "\n",
    "print \"from_poi_to_this_person:\"\n",
    "ml_test.testMany(df,features[:3] + features[4:],clfs,0.3)\n",
    "\n",
    "print \"from_this_person_to_poi:\"\n",
    "ml_test.testMany(df,features[:4] + features[5:],clfs,0.3)\n",
    "\n",
    "print \"shared_receipt_with_poi:\"\n",
    "ml_test.testMany(df[features[:5]],features[:5],clfs,0.3)"
   ]
  },
  {
   "cell_type": "markdown",
   "metadata": {},
   "source": [
    "- The recall gets worse when any feature is removed, so for now keep all the features (or maybe combine them...)"
   ]
  },
  {
   "cell_type": "markdown",
   "metadata": {},
   "source": [
    "## Adding Features\n",
    "\n",
    "\n",
    "### Finance Fields Count\n",
    "\n",
    "\n",
    "Count the number of none-null values each person has for financal data fields."
   ]
  },
  {
   "cell_type": "code",
   "execution_count": 13,
   "metadata": {
    "collapsed": false
   },
   "outputs": [
    {
     "name": "stdout",
     "output_type": "stream",
     "text": [
      "Current features\n",
      "Classifier 1 - Acc: 0.666667 Precision: 0.019231. Recall: 0.083333\n",
      "Classifier 2 - Acc: 0.826389 Precision: 0.208333. Recall: 0.341667\n",
      "Classifier 3 - Acc: 0.875000 Precision: 0.000000. Recall: 0.000000\n",
      "Classifier 4 - Acc: 0.840278 Precision: 0.083333. Recall: 0.050000\n",
      "Classifier 5 - Acc: 0.875000 Precision: 0.062500. Recall: 0.062500\n",
      "Added positive feature\n",
      "Classifier 1 - Acc: 0.715278 Precision: 0.130482. Recall: 0.216667\n",
      "Classifier 2 - Acc: 0.826389 Precision: 0.291667. Recall: 0.312500\n",
      "Classifier 3 - Acc: 0.875000 Precision: 0.000000. Recall: 0.000000\n",
      "Classifier 4 - Acc: 0.840278 Precision: 0.291667. Recall: 0.229167\n",
      "Classifier 5 - Acc: 0.888889 Precision: 0.250000. Recall: 0.083333\n"
     ]
    }
   ],
   "source": [
    "finance_fields = ['salary',\n",
    "                 'bonus',\n",
    "                 'restricted_stock',\n",
    "                 'expenses',\n",
    "                 'other',\n",
    "                 'deferred_income',\n",
    "                 'long_term_incentive']\n",
    "\n",
    "df['finance_field_count'] = df[finance_fields].notnull().sum(axis=1)\n",
    "\n",
    "features_added_pos = features + ['finance_field_count']\n",
    "\n",
    "print \"Current features\"\n",
    "ml_test.testMany(df[features],features,clfs,0.3)\n",
    "\n",
    "print \"Added positive feature\"\n",
    "ml_test.testMany(df[features_added_pos],features_added_pos,clfs,0.3)"
   ]
  },
  {
   "cell_type": "markdown",
   "metadata": {},
   "source": [
    "The classifier works better when adding the finance fields count\n",
    "\n",
    "### POI Email Rates\n",
    "\n",
    "Make rates out of the to and from counters and the to and from poi counters."
   ]
  },
  {
   "cell_type": "code",
   "execution_count": 14,
   "metadata": {
    "collapsed": false
   },
   "outputs": [
    {
     "name": "stdout",
     "output_type": "stream",
     "text": [
      "Current features\n",
      "Classifier 1 - Acc: 0.666667 Precision: 0.019231. Recall: 0.083333\n",
      "Classifier 2 - Acc: 0.819444 Precision: 0.162500. Recall: 0.291667\n",
      "Classifier 3 - Acc: 0.875000 Precision: 0.000000. Recall: 0.000000\n",
      "Classifier 4 - Acc: 0.840278 Precision: 0.083333. Recall: 0.050000\n",
      "Classifier 5 - Acc: 0.847222 Precision: 0.000000. Recall: 0.000000\n",
      "Rate features\n",
      "Classifier 1 - Acc: 0.819444 Precision: 0.467262. Recall: 0.433333\n",
      "Classifier 2 - Acc: 0.881944 Precision: 0.500000. Recall: 0.395833\n",
      "Classifier 3 - Acc: 0.875000 Precision: 0.000000. Recall: 0.000000\n",
      "Classifier 4 - Acc: 0.881944 Precision: 0.600000. Recall: 0.250000\n",
      "Classifier 5 - Acc: 0.888889 Precision: 0.791667. Recall: 0.175000\n"
     ]
    }
   ],
   "source": [
    "df.ix[df.to_messages==0, 'to_rate'] = 0\n",
    "df.ix[df.to_messages!=0, 'to_rate'] = df[df.to_messages!=0]['from_poi_to_this_person'] / df[df.to_messages!=0]['to_messages']\n",
    "\n",
    "df.ix[df.from_messages==0, 'from_rate'] = 0\n",
    "df.ix[df.from_messages!=0, 'from_rate'] = df[df.from_messages!=0]['from_this_person_to_poi'] / df[df.from_messages!=0]['from_messages']\n",
    "\n",
    "rateFeatures = ['poi',\n",
    "                'to_rate',\n",
    "              'from_rate',\n",
    "              'shared_receipt_with_poi',\n",
    "               'finance_field_count']\n",
    "\n",
    "print \"Current features\"\n",
    "ml_test.testMany(df[features],features,clfs,0.3)\n",
    "\n",
    "print \"Rate features\"\n",
    "ml_test.testMany(df[rateFeatures],rateFeatures,clfs,0.3)"
   ]
  },
  {
   "cell_type": "markdown",
   "metadata": {},
   "source": [
    "Adding the rate fields seems to make a difference, so I will keep it.\n",
    "\n",
    "### Feature Conclusion\n",
    "\n",
    "For now I will keep all the email data and add the positive feature. These can be tunned!"
   ]
  },
  {
   "cell_type": "code",
   "execution_count": 15,
   "metadata": {
    "collapsed": false
   },
   "outputs": [],
   "source": [
    "feature_list = rateFeatures"
   ]
  },
  {
   "cell_type": "markdown",
   "metadata": {},
   "source": [
    "## Classifier\n",
    "\n",
    "Working with the modified set of features, naive bayes, decision tree and random forest stand out.\n",
    "\n",
    "Even though nb seems to perform slightly better then random forrest, random forrest allows for more 'tuneabilty' so I will stick with it."
   ]
  },
  {
   "cell_type": "code",
   "execution_count": 28,
   "metadata": {
    "collapsed": false
   },
   "outputs": [
    {
     "name": "stdout",
     "output_type": "stream",
     "text": [
      "Acc: 0.863333, Precision: 0.296667, Recall: 0.245000\n"
     ]
    }
   ],
   "source": [
    "from sklearn.cross_validation import train_test_split\n",
    "from sklearn.cross_validation import cross_val_score\n",
    "from sklearn.cross_validation import KFold\n",
    "\n",
    "labelIndex = feature_list[0]\n",
    "featureIndexes = feature_list[1:]\n",
    "\n",
    "labels = df[labelIndex].values[:].astype(bool)\n",
    "features = df[featureIndexes].values[:,:].astype(np.float64)\n",
    "\n",
    "clf = RandomForestClassifier(n_estimators=10)\n",
    "\n",
    "from sklearn.cross_validation import StratifiedShuffleSplit\n",
    "kf = StratifiedShuffleSplit(labels, 100, random_state = 42)\n",
    "\n",
    "recallScore = cross_val_score(clf, features, labels, scoring='recall',cv=kf).mean()\n",
    "perScore = cross_val_score(clf, features, labels, scoring='precision',cv=kf).mean()\n",
    "accuracyScore = cross_val_score(clf, features, labels, scoring='accuracy',cv=kf).mean()\n",
    "\n",
    "print \"Acc: %f, Precision: %f, Recall: %f\" % (accuracyScore,perScore,recallScore)"
   ]
  },
  {
   "cell_type": "markdown",
   "metadata": {},
   "source": [
    "First, I will autoscale the inputs. See if that helps."
   ]
  },
  {
   "cell_type": "code",
   "execution_count": 24,
   "metadata": {
    "collapsed": false
   },
   "outputs": [
    {
     "name": "stdout",
     "output_type": "stream",
     "text": [
      "Acc: 0.865533, Precision: 0.309717, Recall: 0.225000\n"
     ]
    }
   ],
   "source": [
    "from sklearn import preprocessing\n",
    "\n",
    "labelIndex = feature_list[0]\n",
    "featureIndexes = feature_list[1:]\n",
    "\n",
    "labels = df[labelIndex].values[:].astype(bool)\n",
    "features = df[featureIndexes].values[:,:].astype(np.float64)\n",
    "\n",
    "featuresScaled = preprocessing.scale(features)\n",
    "\n",
    "clf = RandomForestClassifier(n_estimators=10)\n",
    "\n",
    "recallScore = cross_val_score(clf, featuresScaled, labels, scoring='recall',cv=kf).mean()\n",
    "perScore = cross_val_score(clf, featuresScaled, labels, scoring='precision',cv=kf).mean()\n",
    "accuracyScore = cross_val_score(clf, featuresScaled, labels, scoring='accuracy',cv=kf).mean()\n",
    "\n",
    "print \"Acc: %f, Precision: %f, Recall: %f\" % (accuracyScore,perScore,recallScore)"
   ]
  },
  {
   "cell_type": "markdown",
   "metadata": {},
   "source": [
    "Scaling seems to help overall\n",
    "\n",
    "Keep for now (can't hurt)\n",
    "\n",
    "### Feature reduction (PCA)"
   ]
  },
  {
   "cell_type": "code",
   "execution_count": 25,
   "metadata": {
    "collapsed": false
   },
   "outputs": [
    {
     "name": "stdout",
     "output_type": "stream",
     "text": [
      "Acc: 0.865400, Precision: 0.316000, Recall: 0.219000\n"
     ]
    }
   ],
   "source": [
    "from sklearn.decomposition import PCA\n",
    "\n",
    "pca = PCA(n_components=len(featuresScaled[0])-1)\n",
    "\n",
    "pcaFeatures = pca.fit_transform(featuresScaled)\n",
    "\n",
    "clf = RandomForestClassifier(n_estimators=10)\n",
    "\n",
    "recallScore = cross_val_score(clf, featuresScaled, labels, scoring='recall',cv=kf).mean()\n",
    "perScore = cross_val_score(clf, featuresScaled, labels, scoring='precision',cv=kf).mean()\n",
    "accuracyScore = cross_val_score(clf, featuresScaled, labels, scoring='accuracy',cv=kf).mean()\n",
    "\n",
    "print \"Acc: %f, Precision: %f, Recall: %f\" % (accuracyScore,perScore,recallScore)\n"
   ]
  },
  {
   "cell_type": "markdown",
   "metadata": {},
   "source": [
    "PCA seemed a little inconsistent. At best it does as good. At worst it does much worse. Don't use in final script.\n",
    "\n",
    "By adding rates for poi emails, I manually reduced the dimensions."
   ]
  },
  {
   "cell_type": "markdown",
   "metadata": {},
   "source": [
    "### Feature Tunning\n",
    "\n",
    "Tune for recall and precision (This take a while to run.... so watch out!)"
   ]
  },
  {
   "cell_type": "code",
   "execution_count": 29,
   "metadata": {
    "collapsed": false
   },
   "outputs": [
    {
     "name": "stdout",
     "output_type": "stream",
     "text": [
      "Best score: 0.67\n",
      "{'max_features': 'auto', 'min_samples_split': 7, 'max_depth': 2, 'class_weight': 'balanced'}\n",
      "['to_rate', 'from_rate', 'shared_receipt_with_poi', 'finance_field_count']\n",
      "[ 0.17308955  0.36218729  0.05785878  0.40686438]\n"
     ]
    }
   ],
   "source": [
    "from sklearn.grid_search import GridSearchCV\n",
    "\n",
    "param_grid = {'max_depth': np.arange(2, 10),\n",
    "             'min_samples_split': np.arange(5, 20),\n",
    "             'class_weight': [None,'balanced'],\n",
    "             'max_features': [None,'auto','sqrt']}\n",
    "\n",
    "clf = GridSearchCV(RandomForestClassifier(n_estimators=5), param_grid,scoring='recall',n_jobs=-1,cv=kf)\n",
    "\n",
    "clf.fit(featuresScaled,labels)\n",
    "\n",
    "print \"Best score: \" + str(clf.best_score_)\n",
    "print(clf.best_params_)\n",
    "print(featureIndexes)\n",
    "print(clf.best_estimator_.feature_importances_)"
   ]
  },
  {
   "cell_type": "code",
   "execution_count": 31,
   "metadata": {
    "collapsed": false
   },
   "outputs": [
    {
     "name": "stdout",
     "output_type": "stream",
     "text": [
      "Best score: 0.541357142857\n",
      "{'max_features': None, 'min_samples_split': 15, 'max_depth': 2, 'class_weight': 'balanced'}\n",
      "['to_rate', 'from_rate', 'shared_receipt_with_poi', 'finance_field_count']\n",
      "[ 0.          0.49921876  0.25427025  0.24651099]\n"
     ]
    }
   ],
   "source": [
    "from sklearn.grid_search import GridSearchCV\n",
    "\n",
    "param_grid = {'max_depth': np.arange(2, 10),\n",
    "             'min_samples_split': np.arange(5, 20),\n",
    "             'class_weight': [None,'balanced','balanced'],\n",
    "             'max_features': [None,'auto','sqrt']}\n",
    "\n",
    "clf = GridSearchCV(RandomForestClassifier(n_estimators=5), param_grid,scoring='precision',n_jobs=-1,cv=kf)\n",
    "\n",
    "clf.fit(featuresScaled,labels)\n",
    "\n",
    "print \"Best score: \" + str(clf.best_score_)\n",
    "print(clf.best_params_)\n",
    "print(featureIndexes)\n",
    "print(clf.best_estimator_.feature_importances_)"
   ]
  },
  {
   "cell_type": "markdown",
   "metadata": {},
   "source": [
    "I want to optimize for max recall. I find that the values tuning for recall also give the best outcome for precision."
   ]
  }
 ],
 "metadata": {
  "kernelspec": {
   "display_name": "Python 2",
   "language": "python",
   "name": "python2"
  },
  "language_info": {
   "codemirror_mode": {
    "name": "ipython",
    "version": 2
   },
   "file_extension": ".py",
   "mimetype": "text/x-python",
   "name": "python",
   "nbconvert_exporter": "python",
   "pygments_lexer": "ipython2",
   "version": "2.7.11"
  }
 },
 "nbformat": 4,
 "nbformat_minor": 0
}
